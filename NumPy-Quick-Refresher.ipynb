{
 "cells": [
  {
   "cell_type": "code",
   "execution_count": 36,
   "metadata": {},
   "outputs": [],
   "source": [
    "import numpy as np"
   ]
  },
  {
   "cell_type": "markdown",
   "metadata": {},
   "source": [
    "## Creating NumPy Arrays"
   ]
  },
  {
   "cell_type": "code",
   "execution_count": 43,
   "metadata": {},
   "outputs": [
    {
     "name": "stdout",
     "output_type": "stream",
     "text": [
      "Array 1: [0 1 2 3 4 5 6 7 8 9]\n",
      "Array 2: [1 2 3]\n",
      "Array 3: [1 2 3]\n",
      "Array 4: [0]\n",
      "Array 5: []\n",
      "Array 6: [1 2 3]\n",
      "Array 7: [1.1 2.2 3.3]\n"
     ]
    }
   ],
   "source": [
    "# Creates an array of the first 10 non-negative integers\n",
    "array_1 = np.array(range(10))\n",
    "# Creates an array '[1, 2, 3]'\n",
    "array_2 = np.array([1, 2, 3])\n",
    "# Creates an array '[1, 2, 3]' (does the same as the statement above)\n",
    "array_3 = np.array((1, 2, 3))\n",
    "# Creates an array '[0]'\n",
    "array_4 = np.array([0])\n",
    "# Creates an array '[]' (empty array)\n",
    "array_5 = np.array([])\n",
    "# Creates an array '[1, 2, 3]' with entries of 'int' datatype\n",
    "array_6 = np.array([1.1, 2.2, 3.3], dtype=int)\n",
    "# Creates an array '[1, 2, 3]' with entries of 'float' datatype\n",
    "array_7 = np.array([1.1, 2.2, 3.3], dtype=float)\n",
    "\n",
    "print(\"Array 1:\", array_1)\n",
    "print(\"Array 2:\", array_2)\n",
    "print(\"Array 3:\", array_3)\n",
    "print(\"Array 4:\", array_4)\n",
    "print(\"Array 5:\", array_5)\n",
    "print(\"Array 6:\", array_6)\n",
    "print(\"Array 7:\", array_7)"
   ]
  },
  {
   "cell_type": "markdown",
   "metadata": {},
   "source": [
    "## Generating NumPy Arrays"
   ]
  },
  {
   "cell_type": "code",
   "execution_count": 38,
   "metadata": {},
   "outputs": [
    {
     "name": "stdout",
     "output_type": "stream",
     "text": [
      "Array 8: [[0. 0. 0. 0. 0. 0. 0. 0. 0. 0.]\n",
      " [0. 0. 0. 0. 0. 0. 0. 0. 0. 0.]\n",
      " [0. 0. 0. 0. 0. 0. 0. 0. 0. 0.]\n",
      " [0. 0. 0. 0. 0. 0. 0. 0. 0. 0.]\n",
      " [0. 0. 0. 0. 0. 0. 0. 0. 0. 0.]\n",
      " [0. 0. 0. 0. 0. 0. 0. 0. 0. 0.]\n",
      " [0. 0. 0. 0. 0. 0. 0. 0. 0. 0.]\n",
      " [0. 0. 0. 0. 0. 0. 0. 0. 0. 0.]\n",
      " [0. 0. 0. 0. 0. 0. 0. 0. 0. 0.]\n",
      " [0. 0. 0. 0. 0. 0. 0. 0. 0. 0.]]\n",
      "Array 9: [[0. 0. 0. 0. 0. 0. 0. 0. 0. 0.]\n",
      " [0. 0. 0. 0. 0. 0. 0. 0. 0. 0.]\n",
      " [0. 0. 0. 0. 0. 0. 0. 0. 0. 0.]\n",
      " [0. 0. 0. 0. 0. 0. 0. 0. 0. 0.]\n",
      " [0. 0. 0. 0. 0. 0. 0. 0. 0. 0.]\n",
      " [0. 0. 0. 0. 0. 0. 0. 0. 0. 0.]\n",
      " [0. 0. 0. 0. 0. 0. 0. 0. 0. 0.]\n",
      " [0. 0. 0. 0. 0. 0. 0. 0. 0. 0.]\n",
      " [0. 0. 0. 0. 0. 0. 0. 0. 0. 0.]\n",
      " [0. 0. 0. 0. 0. 0. 0. 0. 0. 0.]]\n"
     ]
    }
   ],
   "source": [
    "# Creates a 10 x 10 array of zeros\n",
    "array_8 = np.zeros((10, 10))\n",
    "# Creates a 10 x 10 array of zeros (does the same as the statement above)\n",
    "array_9 = np.zeros([10, 10])\n",
    "\n",
    "print(\"Array 8:\", array_8)\n",
    "print(\"Array 9:\", array_9)"
   ]
  },
  {
   "cell_type": "code",
   "execution_count": 92,
   "metadata": {},
   "outputs": [
    {
     "name": "stdout",
     "output_type": "stream",
     "text": [
      "Array 10: [10 15 20 25 30 35 40 45 50 55 60 65 70 75 80 85 90 95]\n",
      "Array 11: [10 15 20 25 30 35 40 45 50 55 60 65 70 75 80 85 90 95]\n",
      "Array 12: [0.   1.25 2.5  3.75 5.  ]\n",
      "Array 13: [[7 7 7 7 7 7 7 7 7 7]\n",
      " [7 7 7 7 7 7 7 7 7 7]\n",
      " [7 7 7 7 7 7 7 7 7 7]\n",
      " [7 7 7 7 7 7 7 7 7 7]\n",
      " [7 7 7 7 7 7 7 7 7 7]\n",
      " [7 7 7 7 7 7 7 7 7 7]\n",
      " [7 7 7 7 7 7 7 7 7 7]\n",
      " [7 7 7 7 7 7 7 7 7 7]\n",
      " [7 7 7 7 7 7 7 7 7 7]\n",
      " [7 7 7 7 7 7 7 7 7 7]]\n",
      "Array 14: [[1. 0. 0. 0.]\n",
      " [0. 1. 0. 0.]\n",
      " [0. 0. 1. 0.]\n",
      " [0. 0. 0. 1.]]\n",
      "Array 15: [[0.42089833 0.27656668]\n",
      " [0.38411418 0.50106397]]\n"
     ]
    }
   ],
   "source": [
    "# Creates an array of evenly-spaced values\n",
    "array_10 = np.arange(10, 100, 5)\n",
    "# The same thing without 'np.arange'\n",
    "array_11 = np.array(range(10, 100, 5))\n",
    "# Create an array of 5 evenly spaced values in the range (0, 2)\n",
    "array_12 = np.linspace(0, 5, 5)\n",
    "# Create a 10 x 10 array of 7s\n",
    "array_13 = np.full((10, 10), 7)\n",
    "# Create an identity matrix\n",
    "array_14 = np.eye(4)\n",
    "# Create a 2 x 2 array of random values\n",
    "array_15 = np.random.random((2, 2))\n",
    "\n",
    "print(\"Array 10:\", array_10)\n",
    "print(\"Array 11:\", array_11)\n",
    "print(\"Array 12:\", array_12)\n",
    "print(\"Array 13:\", array_13)\n",
    "print(\"Array 14:\", array_14)\n",
    "print(\"Array 15:\", array_15)"
   ]
  },
  {
   "cell_type": "markdown",
   "metadata": {},
   "source": [
    "## Exploring NumPy Arrays"
   ]
  },
  {
   "cell_type": "code",
   "execution_count": 50,
   "metadata": {},
   "outputs": [
    {
     "name": "stdout",
     "output_type": "stream",
     "text": [
      "The array:\n",
      " [[0.62524775 0.69322693 0.05001821 0.18435193 0.13872693]\n",
      " [0.42931294 0.15252747 0.16592346 0.22867587 0.30647362]\n",
      " [0.74765697 0.82393198 0.67182283 0.36698376 0.4638574 ]] \n",
      "\n",
      "The array dimensions: (3, 5)\n",
      "The length of the array: 3\n",
      "The number of the dimensions of the array: 2\n",
      "The number of the elements of the array: 15\n",
      "The data type of the elements of the array: float64\n",
      "The data type of the elements of the array: float64\n",
      "The name data type of the elements in the array: float64\n",
      "The result of the conversion:\n",
      " [[0 0 0 0 0]\n",
      " [0 0 0 0 0]\n",
      " [0 0 0 0 0]]\n"
     ]
    }
   ],
   "source": [
    "# Creating a 3x5 array of random numbers\n",
    "array = np.random.random((3, 5))\n",
    "print(\"The array:\\n\", array, \"\\n\")\n",
    "# Array dimensions\n",
    "print(\"The array dimensions:\", array.shape)\n",
    "# Length of the array\n",
    "print(\"The length of the array:\", len(array))\n",
    "# Number of array dimensions\n",
    "print(\"The number of the dimensions of the array:\", array.ndim)\n",
    "# Number of array elements\n",
    "print(\"The number of the elements of the array:\", array.size)\n",
    "#  Data type of the array elements\n",
    "print(\"The data type of the elements of the array:\", array.dtype)\n",
    "#  Data type of the array elements\n",
    "print(\"The data type of the elements of the array:\", array.dtype)\n",
    "# Name of data type\n",
    "print(\"The name data type of the elements in the array:\", array.dtype.name)\n",
    "# Convert an array to a different type\n",
    "print(\"The result of the conversion:\\n\", array.astype(int))"
   ]
  },
  {
   "cell_type": "code",
   "execution_count": 89,
   "metadata": {},
   "outputs": [
    {
     "name": "stdout",
     "output_type": "stream",
     "text": [
      "class:  ndarray\n",
      "shape:  (3,)\n",
      "strides:  (8,)\n",
      "itemsize:  8\n",
      "aligned:  True\n",
      "contiguous:  True\n",
      "fortran:  True\n",
      "data pointer: 0x7f85fe975c00\n",
      "byteorder:  little\n",
      "byteswap:  False\n",
      "type: int64\n",
      "None\n"
     ]
    }
   ],
   "source": [
    "# Useful function to get some info about the array\n",
    "print(np.info(np.array([1, 2, 3])))"
   ]
  },
  {
   "cell_type": "markdown",
   "metadata": {},
   "source": [
    "## Arithmetic with NumPy Arrays"
   ]
  },
  {
   "cell_type": "code",
   "execution_count": 90,
   "metadata": {},
   "outputs": [
    {
     "name": "stdout",
     "output_type": "stream",
     "text": [
      "[100 200 300] + [100 200 300] = [200 400 600]\n",
      "[100 200 300] * [100 200 300] = [10000 40000 90000]\n",
      "[100 200 300] - [100 200 300] = [0 0 0]\n",
      "[100 200 300] / [100 200 300] = [1. 1. 1.]\n"
     ]
    }
   ],
   "source": [
    "# Creating an array '[100, 200, 300]'\n",
    "array_16 = np.array([100, 200, 300])\n",
    "# Creating an array '[100, 200, 300]'\n",
    "array_17 = np.array([100, 200, 300])\n",
    "# Adding 'array_16' to 'array_17'\n",
    "array_18 = array_16 + array_17\n",
    "# Multiplying 'array_16' and 'array_17'\n",
    "array_19 = array_16 * array_17\n",
    "# Subtracting 'array_17' from 'array_16'\n",
    "array_20 = array_16 - array_17\n",
    "# Dividing 'array_16' by 'array_17'\n",
    "array_21 = array_16 / array_17\n",
    "\n",
    "print(array_16, \"+\", array_17, \"=\", array_18)\n",
    "print(array_16, \"*\", array_17, \"=\", array_19)\n",
    "print(array_16, \"-\", array_17, \"=\", array_20)\n",
    "print(array_16, \"/\", array_17, \"=\", array_21)"
   ]
  },
  {
   "cell_type": "markdown",
   "metadata": {},
   "source": [
    "## Matrices and NumPy"
   ]
  },
  {
   "cell_type": "code",
   "execution_count": 123,
   "metadata": {},
   "outputs": [
    {
     "name": "stdout",
     "output_type": "stream",
     "text": [
      "[[ 7  8  9]\n",
      " [29 34 39]] \n",
      "\n",
      "[[ 7  8  9]\n",
      " [29 34 39]]\n"
     ]
    }
   ],
   "source": [
    "# Creating a matrix '[[0, 1, 2], [3, 4, 5]]'\n",
    "array_22 = np.array([[0, 1], [2, 3]])\n",
    "# Creating a matrix '[[6, 7], [8, 9]]'\n",
    "array_23 = np.array([[4, 5, 6], [7, 8, 9]])\n",
    "# Matrix-multiplying 'array_22' and 'array_23'\n",
    "array_24 = np.dot(array_22, array_23)\n",
    "# Matrix-multiplying 'array_22' and 'array_23' (does the same as the statement above; most of time)\n",
    "array_25 = np.matmul(array_22, array_23)\n",
    "\n",
    "print(array_24, \"\\n\")\n",
    "print(array_25)"
   ]
  }
 ],
 "metadata": {
  "kernelspec": {
   "display_name": "Python 3",
   "language": "python",
   "name": "python3"
  },
  "language_info": {
   "codemirror_mode": {
    "name": "ipython",
    "version": 3
   },
   "file_extension": ".py",
   "mimetype": "text/x-python",
   "name": "python",
   "nbconvert_exporter": "python",
   "pygments_lexer": "ipython3",
   "version": "3.7.1"
  }
 },
 "nbformat": 4,
 "nbformat_minor": 2
}
