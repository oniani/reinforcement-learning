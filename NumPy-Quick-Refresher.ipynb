{
 "cells": [
  {
   "cell_type": "code",
   "execution_count": 10,
   "metadata": {},
   "outputs": [],
   "source": [
    "%config IPCompleter.greedy=True"
   ]
  },
  {
   "cell_type": "code",
   "execution_count": 11,
   "metadata": {},
   "outputs": [],
   "source": [
    "import numpy as np"
   ]
  },
  {
   "cell_type": "code",
   "execution_count": 12,
   "metadata": {},
   "outputs": [
    {
     "data": {
      "text/plain": [
       "'\\nNumPy\\n=====\\n\\nProvides\\n  1. An array object of arbitrary homogeneous items\\n  2. Fast mathematical operations over arrays\\n  3. Linear Algebra, Fourier Transforms, Random Number Generation\\n\\nHow to use the documentation\\n----------------------------\\nDocumentation is available in two forms: docstrings provided\\nwith the code, and a loose standing reference guide, available from\\n`the NumPy homepage <http://www.scipy.org>`_.\\n\\nWe recommend exploring the docstrings using\\n`IPython <http://ipython.scipy.org>`_, an advanced Python shell with\\nTAB-completion and introspection capabilities.  See below for further\\ninstructions.\\n\\nThe docstring examples assume that `numpy` has been imported as `np`::\\n\\n  >>> import numpy as np\\n\\nCode snippets are indicated by three greater-than signs::\\n\\n  >>> x = 42\\n  >>> x = x + 1\\n\\nUse the built-in ``help`` function to view a function\\'s docstring::\\n\\n  >>> help(np.sort)\\n  ... # doctest: +SKIP\\n\\nFor some objects, ``np.info(obj)`` may provide additional help.  This is\\nparticularly true if you see the line \"Help on ufunc object:\" at the top\\nof the help() page.  Ufuncs are implemented in C, not Python, for speed.\\nThe native Python help() does not know how to view their help, but our\\nnp.info() function does.\\n\\nTo search for documents containing a keyword, do::\\n\\n  >>> np.lookfor(\\'keyword\\')\\n  ... # doctest: +SKIP\\n\\nGeneral-purpose documents like a glossary and help on the basic concepts\\nof numpy are available under the ``doc`` sub-module::\\n\\n  >>> from numpy import doc\\n  >>> help(doc)\\n  ... # doctest: +SKIP\\n\\nAvailable subpackages\\n---------------------\\ndoc\\n    Topical documentation on broadcasting, indexing, etc.\\nlib\\n    Basic functions used by several sub-packages.\\nrandom\\n    Core Random Tools\\nlinalg\\n    Core Linear Algebra Tools\\nfft\\n    Core FFT routines\\npolynomial\\n    Polynomial tools\\ntesting\\n    NumPy testing tools\\nf2py\\n    Fortran to Python Interface Generator.\\ndistutils\\n    Enhancements to distutils with support for\\n    Fortran compilers support and more.\\n\\nUtilities\\n---------\\ntest\\n    Run numpy unittests\\nshow_config\\n    Show numpy build configuration\\ndual\\n    Overwrite certain functions with high-performance Scipy tools\\nmatlib\\n    Make everything matrices.\\n__version__\\n    NumPy version string\\n\\nViewing documentation using IPython\\n-----------------------------------\\nStart IPython with the NumPy profile (``ipython -p numpy``), which will\\nimport `numpy` under the alias `np`.  Then, use the ``cpaste`` command to\\npaste examples into the shell.  To see which functions are available in\\n`numpy`, type ``np.<TAB>`` (where ``<TAB>`` refers to the TAB key), or use\\n``np.*cos*?<ENTER>`` (where ``<ENTER>`` refers to the ENTER key) to narrow\\ndown the list.  To view the docstring for a function, use\\n``np.cos?<ENTER>`` (to view the docstring) and ``np.cos??<ENTER>`` (to view\\nthe source code).\\n\\nCopies vs. in-place operation\\n-----------------------------\\nMost of the functions in `numpy` return a copy of the array argument\\n(e.g., `np.sort`).  In-place versions of these functions are often\\navailable as array methods, i.e. ``x = np.array([1,2,3]); x.sort()``.\\nExceptions to this rule are documented.\\n\\n'"
      ]
     },
     "execution_count": 12,
     "metadata": {},
     "output_type": "execute_result"
    }
   ],
   "source": [
    "np.__doc__"
   ]
  },
  {
   "cell_type": "markdown",
   "metadata": {},
   "source": [
    "### Creating Numpy Arrays"
   ]
  },
  {
   "cell_type": "code",
   "execution_count": 83,
   "metadata": {},
   "outputs": [
    {
     "name": "stdout",
     "output_type": "stream",
     "text": [
      "[0 1 2 3 4 5 6 7 8 9] \n",
      "\n",
      "---------------------\n",
      "\n",
      "[1 2 3] \n",
      "\n",
      "---------------------\n",
      "\n",
      "[9 1 2 3] \n",
      "\n",
      "---------------------\n",
      "\n",
      "[0] \n",
      "\n",
      "---------------------\n",
      "\n",
      "[] \n",
      "\n",
      "---------------------\n",
      "\n",
      "[[1 1]\n",
      " [2 3]] \n",
      "\n",
      "---------------------\n",
      "\n",
      "[[[1.5 2.  3. ]\n",
      "  [4.  5.  6. ]]\n",
      "\n",
      " [[3.  2.  1. ]\n",
      "  [4.  5.  6. ]]]\n"
     ]
    }
   ],
   "source": [
    "array_1 = np.array(range(10))\n",
    "array_2 = np.array([1, 2, 3])\n",
    "array_3 = np.array([9, 1, 2, 3])\n",
    "array_4 = np.array([0])\n",
    "array_5 = np.array([])\n",
    "array_6 = np.array([[1,1], [2, 3]])  # One could use paranthesis '()' instead of arrays, but it is sort of ambiguous\n",
    "array_7 = np.array([[[1.5,2,3], [4,5,6]], [[3,2,1], [4,5,6]]], dtype = float)\n",
    "\n",
    "print(array_1, \"\\n\\n---------------------\\n\")\n",
    "print(array_2, \"\\n\\n---------------------\\n\")\n",
    "print(array_3, \"\\n\\n---------------------\\n\")\n",
    "print(array_4, \"\\n\\n---------------------\\n\")\n",
    "print(array_5, \"\\n\\n---------------------\\n\")\n",
    "print(array_6, \"\\n\\n---------------------\\n\")\n",
    "print(array_7)"
   ]
  },
  {
   "cell_type": "markdown",
   "metadata": {},
   "source": [
    "###   Initial Placeholders"
   ]
  },
  {
   "cell_type": "code",
   "execution_count": 84,
   "metadata": {},
   "outputs": [
    {
     "name": "stdout",
     "output_type": "stream",
     "text": [
      "[[0. 0. 0. 0. 0. 0. 0. 0. 0. 0.]\n",
      " [0. 0. 0. 0. 0. 0. 0. 0. 0. 0.]\n",
      " [0. 0. 0. 0. 0. 0. 0. 0. 0. 0.]\n",
      " [0. 0. 0. 0. 0. 0. 0. 0. 0. 0.]\n",
      " [0. 0. 0. 0. 0. 0. 0. 0. 0. 0.]\n",
      " [0. 0. 0. 0. 0. 0. 0. 0. 0. 0.]\n",
      " [0. 0. 0. 0. 0. 0. 0. 0. 0. 0.]\n",
      " [0. 0. 0. 0. 0. 0. 0. 0. 0. 0.]\n",
      " [0. 0. 0. 0. 0. 0. 0. 0. 0. 0.]\n",
      " [0. 0. 0. 0. 0. 0. 0. 0. 0. 0.]]\n"
     ]
    }
   ],
   "source": [
    "zero_matrix = np.zeros((10, 10))  # Once again, this is equivalent to 'np.zeros([10, 10])'\n",
    "print(zero_matrix)"
   ]
  },
  {
   "cell_type": "code",
   "execution_count": 85,
   "metadata": {},
   "outputs": [
    {
     "name": "stdout",
     "output_type": "stream",
     "text": [
      "[10 15 20 25 30 35 40 45 50 55 60 65 70 75 80 85 90 95] \n",
      "\n",
      "[10 15 20 25 30 35 40 45 50 55 60 65 70 75 80 85 90 95] \n",
      "\n",
      "[0.   1.25 2.5  3.75 5.  ] \n",
      "\n",
      "[[7 7 7 7 7 7 7 7 7 7]\n",
      " [7 7 7 7 7 7 7 7 7 7]\n",
      " [7 7 7 7 7 7 7 7 7 7]\n",
      " [7 7 7 7 7 7 7 7 7 7]\n",
      " [7 7 7 7 7 7 7 7 7 7]\n",
      " [7 7 7 7 7 7 7 7 7 7]\n",
      " [7 7 7 7 7 7 7 7 7 7]\n",
      " [7 7 7 7 7 7 7 7 7 7]\n",
      " [7 7 7 7 7 7 7 7 7 7]\n",
      " [7 7 7 7 7 7 7 7 7 7]] \n",
      "\n",
      "[[1. 0. 0. 0.]\n",
      " [0. 1. 0. 0.]\n",
      " [0. 0. 1. 0.]\n",
      " [0. 0. 0. 1.]] \n",
      "\n",
      "[[0.05187843 0.20274423]\n",
      " [0.7307726  0.76584408]]\n"
     ]
    }
   ],
   "source": [
    "# Creates an array of evenly-spaced values\n",
    "print(np.arange(10, 100, 5), \"\\n\")\n",
    "\n",
    "# The same thing without 'np.arrange'\n",
    "print(np.array(range(10, 100, 5)), \"\\n\")\n",
    "\n",
    "# Create an array of 5 evenly spaced values in the range (0, 2)\n",
    "print(np.linspace(0, 5, 5), \"\\n\")\n",
    "\n",
    "# Create full 10X10 matrix of 7s\n",
    "print(np.full((10, 10), 7), \"\\n\")\n",
    "\n",
    "# Create an identity matrix\n",
    "print(np.eye(4), \"\\n\")\n",
    "\n",
    "# Create an array with random values\n",
    "print(np.random.random((2, 2)))"
   ]
  },
  {
   "cell_type": "markdown",
   "metadata": {},
   "source": [
    "### Exploring Arrays"
   ]
  },
  {
   "cell_type": "code",
   "execution_count": 112,
   "metadata": {},
   "outputs": [
    {
     "name": "stdout",
     "output_type": "stream",
     "text": [
      "The array is: \n",
      " [[0.82740204 0.39696169 0.8577671  0.88719022 0.12628969]\n",
      " [0.06269681 0.67040254 0.99608837 0.8481897  0.66889878]\n",
      " [0.15405589 0.38842211 0.25982456 0.74337777 0.6777409 ]] \n",
      "\n",
      "The array dimensions are (3, 5) \n",
      "\n",
      "The length of the array is 3 \n",
      "\n",
      "The number of the dimensions of the array is 2 \n",
      "\n",
      "The number of the elements of the array is 15 \n",
      "\n",
      "The data type of the elements of the array is float64 \n",
      "\n",
      "The data type of the elements of the array is float64 \n",
      "\n",
      "The name data type of the elements in the array is float64 \n",
      "\n",
      "The result of the conversion is: \n",
      " [[0 0 0 0 0]\n",
      " [0 0 0 0 0]\n",
      " [0 0 0 0 0]] \n",
      "\n"
     ]
    }
   ],
   "source": [
    "# Creating an array of random numbers\n",
    "array = np.random.random((3, 5))\n",
    "print(\"The array is: \\n\", array, \"\\n\")\n",
    "\n",
    "# Array dimensions\n",
    "print(\"The array dimensions are\", array.shape, \"\\n\")\n",
    "\n",
    "# Length of the array\n",
    "print(\"The length of the array is\", len(array), \"\\n\")\n",
    "\n",
    "# Number of array dimensions\n",
    "print(\"The number of the dimensions of the array is\", array.ndim, \"\\n\")\n",
    "\n",
    "# Number of array elements\n",
    "print(\"The number of the elements of the array is\", array.size, \"\\n\")\n",
    "\n",
    "#  Data type of the array elements\n",
    "print(\"The data type of the elements of the array is\", array.dtype, \"\\n\")\n",
    "\n",
    "#  Data type of the array elements\n",
    "print(\"The data type of the elements of the array is\", array.dtype, \"\\n\")\n",
    "\n",
    "# Name of data type\n",
    "print(\"The name data type of the elements in the array is\", array.dtype.name, \"\\n\")\n",
    "\n",
    "# Convert an array to a different type\n",
    "print(\"The result of the conversion is: \\n\", array.astype(int), \"\\n\")"
   ]
  },
  {
   "cell_type": "code",
   "execution_count": 114,
   "metadata": {},
   "outputs": [
    {
     "name": "stdout",
     "output_type": "stream",
     "text": [
      "class:  ndarray\n",
      "shape:  (3,)\n",
      "strides:  (8,)\n",
      "itemsize:  8\n",
      "aligned:  True\n",
      "contiguous:  True\n",
      "fortran:  True\n",
      "data pointer: 0x7fb94e06e300\n",
      "byteorder:  little\n",
      "byteswap:  False\n",
      "type: int64\n",
      "None\n"
     ]
    }
   ],
   "source": [
    "# Useful function to get information about the array\n",
    "print(np.info(np.array([1,2,3])))"
   ]
  },
  {
   "cell_type": "code",
   "execution_count": null,
   "metadata": {},
   "outputs": [],
   "source": []
  }
 ],
 "metadata": {
  "kernelspec": {
   "display_name": "Python 3",
   "language": "python",
   "name": "python3"
  },
  "language_info": {
   "codemirror_mode": {
    "name": "ipython",
    "version": 3
   },
   "file_extension": ".py",
   "mimetype": "text/x-python",
   "name": "python",
   "nbconvert_exporter": "python",
   "pygments_lexer": "ipython3",
   "version": "3.7.1"
  }
 },
 "nbformat": 4,
 "nbformat_minor": 2
}
