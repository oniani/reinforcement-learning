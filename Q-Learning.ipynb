{
 "cells": [
  {
   "cell_type": "code",
   "execution_count": 104,
   "metadata": {},
   "outputs": [],
   "source": [
    "%config IPCompleter.greedy=True"
   ]
  },
  {
   "cell_type": "code",
   "execution_count": 105,
   "metadata": {},
   "outputs": [],
   "source": [
    "import numpy as np\n",
    "import gym\n",
    "import random"
   ]
  },
  {
   "cell_type": "code",
   "execution_count": 106,
   "metadata": {},
   "outputs": [],
   "source": [
    "environment = gym.make(\"FrozenLake-v0\")"
   ]
  },
  {
   "cell_type": "code",
   "execution_count": 114,
   "metadata": {},
   "outputs": [],
   "source": [
    "# Number of possible states\n",
    "state_size = environment.observation_space.n\n",
    "\n",
    "# Number of possible actions per state\n",
    "action_size = environment.action_space.n"
   ]
  },
  {
   "cell_type": "code",
   "execution_count": 115,
   "metadata": {},
   "outputs": [
    {
     "name": "stdout",
     "output_type": "stream",
     "text": [
      "4\n",
      "16\n"
     ]
    }
   ],
   "source": [
    "print(action_size)\n",
    "print(state_size)"
   ]
  },
  {
   "cell_type": "code",
   "execution_count": 116,
   "metadata": {},
   "outputs": [],
   "source": [
    "# A Q table for the environment\n",
    "qtable = np.zeros((state_size, action_size))"
   ]
  },
  {
   "cell_type": "code",
   "execution_count": 117,
   "metadata": {},
   "outputs": [
    {
     "name": "stdout",
     "output_type": "stream",
     "text": [
      "[[0. 0. 0. 0.]\n",
      " [0. 0. 0. 0.]\n",
      " [0. 0. 0. 0.]\n",
      " [0. 0. 0. 0.]\n",
      " [0. 0. 0. 0.]\n",
      " [0. 0. 0. 0.]\n",
      " [0. 0. 0. 0.]\n",
      " [0. 0. 0. 0.]\n",
      " [0. 0. 0. 0.]\n",
      " [0. 0. 0. 0.]\n",
      " [0. 0. 0. 0.]\n",
      " [0. 0. 0. 0.]\n",
      " [0. 0. 0. 0.]\n",
      " [0. 0. 0. 0.]\n",
      " [0. 0. 0. 0.]\n",
      " [0. 0. 0. 0.]]\n"
     ]
    }
   ],
   "source": [
    "print(q_table)"
   ]
  },
  {
   "cell_type": "code",
   "execution_count": 118,
   "metadata": {},
   "outputs": [],
   "source": [
    "# Total number of episodes for the training\n",
    "# Episode is a fancy word for the new game (once the agent is dead, it enters a new episode)\n",
    "total_episodes = 15000\n",
    "\n",
    "# Learning rate of the agent\n",
    "learning_rate = 0.8\n",
    "\n",
    "# Max steps per episode\n",
    "max_steps = 99\n",
    "\n",
    "# Discounting rate\n",
    "# The larger the gamma, the smaller the discount and the smaller the gamma, the bigger the discount\n",
    "# The larger the gamma, the more agent cares about the long-term reward and less for the short-term reward\n",
    "# The smaller the gamma, the less agent cares about the long-term reward and more for the short-term reward\n",
    "gamma = 0.95\n",
    "\n",
    "# Exploration parameters\n",
    "# Exploration rate\n",
    "epsilon = 1.0\n",
    "\n",
    "# Exploration probability at start\n",
    "max_epsilon = 1.0\n",
    "\n",
    "# Minimum exploration probability\n",
    "min_epsilon = 0.01\n",
    "\n",
    "# Exponential decay rate for the exploration probability\n",
    "decay_rate = 0.005"
   ]
  },
  {
   "cell_type": "code",
   "execution_count": 119,
   "metadata": {},
   "outputs": [
    {
     "name": "stdout",
     "output_type": "stream",
     "text": [
      "Score over time: 0.4798\n",
      "[[5.52094777e-02 3.43467350e-02 4.47398629e-02 4.48420220e-02]\n",
      " [2.47879899e-04 3.05324105e-04 7.56261956e-03 4.55156848e-02]\n",
      " [4.51961392e-03 4.80245654e-03 2.10561197e-02 1.94438161e-02]\n",
      " [3.24643865e-05 9.00804651e-03 7.21909970e-03 1.95368245e-02]\n",
      " [1.16362464e-01 7.43092631e-03 1.79030405e-02 2.48842330e-02]\n",
      " [0.00000000e+00 0.00000000e+00 0.00000000e+00 0.00000000e+00]\n",
      " [4.42203511e-03 1.41494080e-06 8.86650659e-02 2.36084672e-04]\n",
      " [0.00000000e+00 0.00000000e+00 0.00000000e+00 0.00000000e+00]\n",
      " [5.42858082e-03 2.25838681e-02 3.12320745e-03 2.32720416e-01]\n",
      " [5.49677987e-03 1.11036213e-01 1.13293840e-02 1.19622976e-02]\n",
      " [4.63373621e-01 5.42474030e-03 2.56867623e-04 6.71572781e-04]\n",
      " [0.00000000e+00 0.00000000e+00 0.00000000e+00 0.00000000e+00]\n",
      " [0.00000000e+00 0.00000000e+00 0.00000000e+00 0.00000000e+00]\n",
      " [1.67338013e-02 1.18951178e-01 4.50579497e-01 2.56012865e-02]\n",
      " [2.24852811e-01 9.05879731e-02 7.60120166e-02 9.17069052e-01]\n",
      " [0.00000000e+00 0.00000000e+00 0.00000000e+00 0.00000000e+00]]\n"
     ]
    }
   ],
   "source": [
    "# A list for rewards\n",
    "rewards = []\n",
    "\n",
    "# Run the Q-learning algorithm forever or until the learning is stopped\n",
    "for episode in range(total_episodes):\n",
    "    \n",
    "    # Through each loop, reset the environment\n",
    "    state = environment.reset()\n",
    "    \n",
    "    # Step has to be reset as well, since it is in the loop and we get 'max_steps - 1' after the loop\n",
    "    # Step is variable which indicates how many moves can an agent do in a single episode (in this case < 99)\n",
    "    step  = 0\n",
    "    \n",
    "    # Set done to False meaning that the agent is not D E A D\n",
    "    done = False\n",
    "    \n",
    "    # A number of rewards per episode\n",
    "    total_rewards = 0\n",
    "    \n",
    "    for step in range(max_steps):\n",
    "\n",
    "        # Choose an action a in the current world state (s)\n",
    "        # First we randomize a number\n",
    "        exp_exp_tradeoff = random.uniform(0, 1)\n",
    "    \n",
    "        # If this number > greater than epsilon --> exploitation (taking the biggest Q value for this state)\n",
    "        if exp_exp_tradeoff > epsilon:\n",
    "            action = np.argmax(qtable[state,:])\n",
    "        # Else doing a random choice --> exploration\n",
    "        else:\n",
    "            action = environment.action_space.sample()\n",
    "        \n",
    "        # Take the action (a) and observe the outcome state(s') and reward (r)\n",
    "        new_state, reward, done, info = environment.step(action)\n",
    "        \n",
    "        # Update Q(s,a):= Q(s,a) + lr [R(s,a) + gamma * max Q(s',a') - Q(s,a)]\n",
    "        # qtable[new_state,:] : all the actions we can take from new state\n",
    "        qtable[state, action] = qtable[state, action] + learning_rate * (reward + gamma * \\\n",
    "                                             np.max(qtable[new_state, :]) - qtable[state, action])\n",
    "        \n",
    "        # Add the reward to the total_rewards\n",
    "        total_rewards += reward\n",
    "        \n",
    "        # Our new state is state\n",
    "        state = new_state\n",
    "        \n",
    "        # If done (if we're dead) : finish episode\n",
    "        if done == True: \n",
    "            break\n",
    "        \n",
    "    # Reduce epsilon since agent needs less and less exploration\n",
    "    epsilon = min_epsilon + (max_epsilon - min_epsilon)*np.exp(-decay_rate*episode) \n",
    "    rewards.append(total_rewards)\n",
    "\n",
    "print (\"Score over time: \" +  str(sum(rewards)/total_episodes))\n",
    "print(qtable)"
   ]
  },
  {
   "cell_type": "code",
   "execution_count": 120,
   "metadata": {},
   "outputs": [
    {
     "name": "stdout",
     "output_type": "stream",
     "text": [
      "----------------------------------------------------\n",
      "EPISODE  0\n",
      "----------------------------------------------------\n",
      "EPISODE  1\n",
      "  (Up)\n",
      "SFFF\n",
      "FHFH\n",
      "FFFH\n",
      "HFF\u001b[41mG\u001b[0m\n",
      "Number of steps 52\n",
      "----------------------------------------------------\n",
      "EPISODE  2\n",
      "  (Up)\n",
      "SFFF\n",
      "FHFH\n",
      "FFFH\n",
      "HFF\u001b[41mG\u001b[0m\n",
      "Number of steps 11\n",
      "----------------------------------------------------\n",
      "EPISODE  3\n",
      "  (Right)\n",
      "SFFF\n",
      "FHF\u001b[41mH\u001b[0m\n",
      "FFFH\n",
      "HFFG\n",
      "Number of steps 77\n",
      "----------------------------------------------------\n",
      "EPISODE  4\n",
      "  (Up)\n",
      "SFFF\n",
      "FHFH\n",
      "FFFH\n",
      "HFF\u001b[41mG\u001b[0m\n",
      "Number of steps 34\n"
     ]
    }
   ],
   "source": [
    "# Reset the environment\n",
    "environment.reset()\n",
    "\n",
    "# 5 episodes\n",
    "for episode in range(5):\n",
    "\n",
    "    # Get the new state\n",
    "    state = environment.reset()\n",
    "    \n",
    "    # Step 0\n",
    "    step = 0\n",
    "    \n",
    "    # We are not dead, yet...\n",
    "    done = False\n",
    "    \n",
    "    # Pretty-print episode number and separate with a line of dashes\n",
    "    print(\"----------------------------------------------------\")\n",
    "    print(\"EPISODE \", episode)\n",
    "    \n",
    "    # Moves\n",
    "    for step in range(max_steps):\n",
    "        \n",
    "        # Take the action (index) that have the maximum expected future reward given that state\n",
    "        action = np.argmax(qtable[state,:])\n",
    "        \n",
    "        # Get new_state, reward, done, and info from the envioronment.step(action)\n",
    "        new_state, reward, done, info = environment.step(action)\n",
    "        \n",
    "        # If not dead\n",
    "        if done:\n",
    "\n",
    "            # Here, we decide to only print the last state (to see if our agent is on the goal or fall into an hole)\n",
    "            environment.render()\n",
    "            \n",
    "            # We print the number of step it took.\n",
    "            print(\"Number of steps\", step)\n",
    "            break\n",
    "        \n",
    "        # New state\n",
    "        state = new_state\n",
    "\n",
    "# Done with the environment\n",
    "# Sort of file.close\n",
    "environment.close()"
   ]
  },
  {
   "cell_type": "code",
   "execution_count": null,
   "metadata": {},
   "outputs": [],
   "source": []
  }
 ],
 "metadata": {
  "kernelspec": {
   "display_name": "Python 3",
   "language": "python",
   "name": "python3"
  },
  "language_info": {
   "codemirror_mode": {
    "name": "ipython",
    "version": 3
   },
   "file_extension": ".py",
   "mimetype": "text/x-python",
   "name": "python",
   "nbconvert_exporter": "python",
   "pygments_lexer": "ipython3",
   "version": "3.7.1"
  }
 },
 "nbformat": 4,
 "nbformat_minor": 2
}
