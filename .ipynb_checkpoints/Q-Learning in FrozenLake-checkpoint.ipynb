{
 "cells": [
  {
   "cell_type": "code",
   "execution_count": 25,
   "metadata": {},
   "outputs": [],
   "source": [
    "%config IPCompleter.greedy=True"
   ]
  },
  {
   "cell_type": "code",
   "execution_count": 26,
   "metadata": {},
   "outputs": [],
   "source": [
    "import numpy as np\n",
    "import gym\n",
    "import random"
   ]
  },
  {
   "cell_type": "code",
   "execution_count": 27,
   "metadata": {},
   "outputs": [
    {
     "name": "stdout",
     "output_type": "stream",
     "text": [
      "\n",
      "\u001b[41mS\u001b[0mFFF\n",
      "FHFH\n",
      "FFFH\n",
      "HFFG\n"
     ]
    }
   ],
   "source": [
    "environment = gym.make(\"FrozenLake-v0\")\n",
    "environment.render()"
   ]
  },
  {
   "cell_type": "code",
   "execution_count": 28,
   "metadata": {},
   "outputs": [],
   "source": [
    "# Number of possible states\n",
    "state_size = environment.observation_space.n\n",
    "\n",
    "# Number of possible actions per state\n",
    "action_size = environment.action_space.n"
   ]
  },
  {
   "cell_type": "code",
   "execution_count": 29,
   "metadata": {},
   "outputs": [
    {
     "name": "stdout",
     "output_type": "stream",
     "text": [
      "4\n",
      "16\n"
     ]
    }
   ],
   "source": [
    "print(action_size)\n",
    "print(state_size)"
   ]
  },
  {
   "cell_type": "code",
   "execution_count": 30,
   "metadata": {},
   "outputs": [],
   "source": [
    "# A Q table for the environment\n",
    "qtable = np.zeros((state_size, action_size))"
   ]
  },
  {
   "cell_type": "code",
   "execution_count": 31,
   "metadata": {},
   "outputs": [
    {
     "name": "stdout",
     "output_type": "stream",
     "text": [
      "[[0. 0. 0. 0.]\n",
      " [0. 0. 0. 0.]\n",
      " [0. 0. 0. 0.]\n",
      " [0. 0. 0. 0.]\n",
      " [0. 0. 0. 0.]\n",
      " [0. 0. 0. 0.]\n",
      " [0. 0. 0. 0.]\n",
      " [0. 0. 0. 0.]\n",
      " [0. 0. 0. 0.]\n",
      " [0. 0. 0. 0.]\n",
      " [0. 0. 0. 0.]\n",
      " [0. 0. 0. 0.]\n",
      " [0. 0. 0. 0.]\n",
      " [0. 0. 0. 0.]\n",
      " [0. 0. 0. 0.]\n",
      " [0. 0. 0. 0.]]\n"
     ]
    }
   ],
   "source": [
    "print(qtable)"
   ]
  },
  {
   "cell_type": "code",
   "execution_count": 32,
   "metadata": {},
   "outputs": [],
   "source": [
    "# Total number of episodes for the training\n",
    "# Episode is a fancy word for the new game (once the agent is dead, it enters a new episode)\n",
    "total_episodes = 15000\n",
    "\n",
    "# Learning rate of the agent\n",
    "learning_rate = 0.8\n",
    "\n",
    "# Max steps per episode\n",
    "max_steps = 99\n",
    "\n",
    "# Discounting rate\n",
    "# The larger the gamma, the smaller the discount and the smaller the gamma, the bigger the discount\n",
    "# The larger the gamma, the more agent cares about the long-term reward and less for the short-term reward\n",
    "# The smaller the gamma, the less agent cares about the long-term reward and more for the short-term reward\n",
    "gamma = 0.95\n",
    "\n",
    "# Exploration parameters\n",
    "# Exploration rate\n",
    "epsilon = 1.0\n",
    "\n",
    "# Exploration probability at start\n",
    "max_epsilon = 1.0\n",
    "\n",
    "# Minimum exploration probability\n",
    "min_epsilon = 0.01\n",
    "\n",
    "# Exponential decay rate for the exploration probability\n",
    "decay_rate = 0.005"
   ]
  },
  {
   "cell_type": "code",
   "execution_count": 33,
   "metadata": {},
   "outputs": [
    {
     "name": "stdout",
     "output_type": "stream",
     "text": [
      "Score over time: 0.47513333333333335\n",
      "[[9.17021476e-02 3.31003834e-02 2.52459030e-02 3.91347158e-03]\n",
      " [2.98175907e-03 1.10264567e-03 1.65988355e-02 9.70049985e-03]\n",
      " [1.00254289e-03 3.20161497e-03 2.92432915e-03 3.38573568e-03]\n",
      " [7.61253304e-05 1.29622836e-03 1.19631796e-03 3.34528366e-03]\n",
      " [1.69894105e-01 2.34006146e-02 5.27773403e-02 1.19845200e-04]\n",
      " [0.00000000e+00 0.00000000e+00 0.00000000e+00 0.00000000e+00]\n",
      " [1.61961345e-05 1.24750844e-01 1.28592731e-05 7.73714823e-06]\n",
      " [0.00000000e+00 0.00000000e+00 0.00000000e+00 0.00000000e+00]\n",
      " [7.81662738e-02 5.59656859e-02 3.27017213e-03 2.56274944e-01]\n",
      " [3.45617738e-01 1.99706629e-01 3.17824685e-03 1.67413452e-03]\n",
      " [6.38188998e-01 1.78327928e-04 3.77885674e-04 6.97221108e-05]\n",
      " [0.00000000e+00 0.00000000e+00 0.00000000e+00 0.00000000e+00]\n",
      " [0.00000000e+00 0.00000000e+00 0.00000000e+00 0.00000000e+00]\n",
      " [5.09048346e-02 2.94191653e-02 7.41710154e-01 2.84848372e-02]\n",
      " [2.37478609e-01 9.75208053e-01 1.97807864e-01 2.56119566e-01]\n",
      " [0.00000000e+00 0.00000000e+00 0.00000000e+00 0.00000000e+00]]\n"
     ]
    }
   ],
   "source": [
    "# A list for rewards\n",
    "rewards = []\n",
    "\n",
    "# Run the Q-learning algorithm forever or until the learning is stopped\n",
    "for episode in range(total_episodes):\n",
    "    \n",
    "    # Through each loop, reset the environment\n",
    "    state = environment.reset()\n",
    "    \n",
    "    # Step has to be reset as well, since it is in the loop and we get 'max_steps - 1' after the loop\n",
    "    # Step is variable which indicates how many moves can an agent do in a single episode (in this case < 99)\n",
    "    step  = 0\n",
    "    \n",
    "    # Set done to False meaning that the agent is not D E A D\n",
    "    done = False\n",
    "    \n",
    "    # A number of rewards per episode\n",
    "    total_rewards = 0\n",
    "    \n",
    "    for step in range(max_steps):\n",
    "\n",
    "        # Choose an action a in the current world state (s)\n",
    "        # First we randomize a number\n",
    "        exp_exp_tradeoff = random.uniform(0, 1)\n",
    "    \n",
    "        # If this number > greater than epsilon --> exploitation (taking the biggest Q value for this state)\n",
    "        if exp_exp_tradeoff > epsilon:\n",
    "            action = np.argmax(qtable[state,:])\n",
    "        # Else doing a random choice --> exploration\n",
    "        else:\n",
    "            action = environment.action_space.sample()\n",
    "        \n",
    "        # Take the action (a) and observe the outcome state(s') and reward (r)\n",
    "        new_state, reward, done, info = environment.step(action)\n",
    "        \n",
    "        # Bellman's equation!!\n",
    "        # Update Q(s,a):= Q(s,a) + lr [R(s,a) + gamma * max Q(s',a') - Q(s,a)]\n",
    "        # qtable[new_state,:] : all the actions we can take from new state\n",
    "        qtable[state, action] = qtable[state, action] + learning_rate * (reward + gamma * \\\n",
    "                                             np.max(qtable[new_state, :]) - qtable[state, action])\n",
    "        \n",
    "        # Add the reward to the total_rewards\n",
    "        total_rewards += reward\n",
    "        \n",
    "        # Our new state is 'new_state'\n",
    "        state = new_state\n",
    "        \n",
    "        # If done (if we're dead) : finish episode\n",
    "        if done == True: \n",
    "            break\n",
    "        \n",
    "    # Reduce epsilon since agent needs less and less exploration\n",
    "    epsilon = min_epsilon + (max_epsilon - min_epsilon) * np.exp(-decay_rate * episode) \n",
    "    rewards.append(total_rewards)\n",
    "\n",
    "\n",
    "print(f\"Score over time: {sum(rewards) / total_episodes}\")\n",
    "print(qtable)"
   ]
  },
  {
   "cell_type": "code",
   "execution_count": 34,
   "metadata": {},
   "outputs": [
    {
     "name": "stdout",
     "output_type": "stream",
     "text": [
      "----------------------------------------------------\n",
      "EPISODE  0\n",
      "  (Left)\n",
      "SFFF\n",
      "F\u001b[41mH\u001b[0mFH\n",
      "FFFH\n",
      "HFFG\n",
      "Number of steps 51\n",
      "----------------------------------------------------\n",
      "EPISODE  1\n",
      "  (Down)\n",
      "SFFF\n",
      "FHFH\n",
      "FFFH\n",
      "HFF\u001b[41mG\u001b[0m\n",
      "Number of steps 19\n",
      "----------------------------------------------------\n",
      "EPISODE  2\n",
      "  (Left)\n",
      "SFFF\n",
      "F\u001b[41mH\u001b[0mFH\n",
      "FFFH\n",
      "HFFG\n",
      "Number of steps 32\n",
      "----------------------------------------------------\n",
      "EPISODE  3\n",
      "  (Down)\n",
      "SFFF\n",
      "FHFH\n",
      "FFFH\n",
      "HFF\u001b[41mG\u001b[0m\n",
      "Number of steps 9\n",
      "----------------------------------------------------\n",
      "EPISODE  4\n",
      "  (Down)\n",
      "SFFF\n",
      "FHFH\n",
      "FFFH\n",
      "HFF\u001b[41mG\u001b[0m\n",
      "Number of steps 53\n"
     ]
    }
   ],
   "source": [
    "# Reset the environment\n",
    "environment.reset()\n",
    "\n",
    "# 5 episodes\n",
    "for episode in range(5):\n",
    "\n",
    "    # Get the new state\n",
    "    state = environment.reset()\n",
    "    \n",
    "    # Step 0\n",
    "    step = 0\n",
    "    \n",
    "    # We are not dead, yet...\n",
    "    done = False\n",
    "    \n",
    "    # Pretty-print episode number and separate with a line of dashes\n",
    "    print(\"----------------------------------------------------\")\n",
    "    print(\"EPISODE \", episode)\n",
    "    \n",
    "    # Moves\n",
    "    for step in range(max_steps):\n",
    "        \n",
    "        # Take the action (index) that has the maximum expected future reward given that state\n",
    "        action = np.argmax(qtable[state,:])\n",
    "        \n",
    "        # Get new_state, reward, done, and info from the envioronment.step(action)\n",
    "        new_state, reward, done, info = environment.step(action)\n",
    "        \n",
    "        # If dead\n",
    "        if done:\n",
    "\n",
    "            # Here, we decide to only print the last state (to see if our agent is on the goal/fell into a hole)\n",
    "            environment.render()\n",
    "            \n",
    "            # We print the number of steps it took\n",
    "            print(\"Number of steps\", step)\n",
    "            break\n",
    "        \n",
    "        # New state\n",
    "        state = new_state\n",
    "\n",
    "# Done with the environment\n",
    "# Sort of file.close\n",
    "environment.close()"
   ]
  }
 ],
 "metadata": {
  "kernelspec": {
   "display_name": "Python 3",
   "language": "python",
   "name": "python3"
  },
  "language_info": {
   "codemirror_mode": {
    "name": "ipython",
    "version": 3
   },
   "file_extension": ".py",
   "mimetype": "text/x-python",
   "name": "python",
   "nbconvert_exporter": "python",
   "pygments_lexer": "ipython3",
   "version": "3.7.1"
  }
 },
 "nbformat": 4,
 "nbformat_minor": 2
}
